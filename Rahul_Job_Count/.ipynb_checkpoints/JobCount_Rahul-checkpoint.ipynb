{
 "cells": [
  {
   "cell_type": "code",
   "execution_count": 3,
   "metadata": {},
   "outputs": [],
   "source": [
    "import time\n",
    "import requests\n",
    "import urllib.request\n",
    "from bs4 import BeautifulSoup\n",
    "from csv import DictReader\n",
    "import csv\n",
    "from selenium import webdriver\n",
    "from selenium.webdriver.chrome.options import Options\n",
    "import pandas as pd\n",
    "from datetime import datetime\n"
   ]
  },
  {
   "cell_type": "code",
   "execution_count": 2,
   "metadata": {
    "scrolled": true
   },
   "outputs": [
    {
     "ename": "FileNotFoundError",
     "evalue": "[Errno 2] File //projects//85c3bd5a-ae03-4202-9f97-5cb013735222//input.csv does not exist: '//projects//85c3bd5a-ae03-4202-9f97-5cb013735222//input.csv'",
     "output_type": "error",
     "traceback": [
      "\u001b[1;31m---------------------------------------------------------------------------\u001b[0m",
      "\u001b[1;31mFileNotFoundError\u001b[0m                         Traceback (most recent call last)",
      "\u001b[1;32m<ipython-input-2-7152eac91060>\u001b[0m in \u001b[0;36m<module>\u001b[1;34m\u001b[0m\n\u001b[1;32m----> 1\u001b[1;33m \u001b[0mdata\u001b[0m \u001b[1;33m=\u001b[0m \u001b[0mpd\u001b[0m\u001b[1;33m.\u001b[0m\u001b[0mread_csv\u001b[0m\u001b[1;33m(\u001b[0m\u001b[1;34m\"//projects//85c3bd5a-ae03-4202-9f97-5cb013735222//input.csv\"\u001b[0m\u001b[1;33m)\u001b[0m\u001b[1;33m\u001b[0m\u001b[1;33m\u001b[0m\u001b[0m\n\u001b[0m\u001b[0;32m      2\u001b[0m \u001b[0minfo\u001b[0m\u001b[1;33m=\u001b[0m\u001b[0mdata\u001b[0m\u001b[1;33m[\u001b[0m\u001b[1;34m\"Job-1\"\u001b[0m\u001b[1;33m]\u001b[0m\u001b[1;33m\u001b[0m\u001b[1;33m\u001b[0m\u001b[0m\n\u001b[0;32m      3\u001b[0m \u001b[0mtotal\u001b[0m\u001b[1;33m=\u001b[0m\u001b[1;33m[\u001b[0m\u001b[1;33m]\u001b[0m\u001b[1;33m\u001b[0m\u001b[1;33m\u001b[0m\u001b[0m\n\u001b[0;32m      4\u001b[0m \u001b[0mchrome_options\u001b[0m \u001b[1;33m=\u001b[0m \u001b[0mOptions\u001b[0m\u001b[1;33m(\u001b[0m\u001b[1;33m)\u001b[0m\u001b[1;33m\u001b[0m\u001b[1;33m\u001b[0m\u001b[0m\n\u001b[0;32m      5\u001b[0m \u001b[0mchrome_options\u001b[0m\u001b[1;33m.\u001b[0m\u001b[0madd_argument\u001b[0m\u001b[1;33m(\u001b[0m\u001b[1;34m\"--disable-extensions\"\u001b[0m\u001b[1;33m)\u001b[0m\u001b[1;33m\u001b[0m\u001b[1;33m\u001b[0m\u001b[0m\n",
      "\u001b[1;32m~\\anaconda3\\lib\\site-packages\\pandas\\io\\parsers.py\u001b[0m in \u001b[0;36mparser_f\u001b[1;34m(filepath_or_buffer, sep, delimiter, header, names, index_col, usecols, squeeze, prefix, mangle_dupe_cols, dtype, engine, converters, true_values, false_values, skipinitialspace, skiprows, skipfooter, nrows, na_values, keep_default_na, na_filter, verbose, skip_blank_lines, parse_dates, infer_datetime_format, keep_date_col, date_parser, dayfirst, cache_dates, iterator, chunksize, compression, thousands, decimal, lineterminator, quotechar, quoting, doublequote, escapechar, comment, encoding, dialect, error_bad_lines, warn_bad_lines, delim_whitespace, low_memory, memory_map, float_precision)\u001b[0m\n\u001b[0;32m    674\u001b[0m         )\n\u001b[0;32m    675\u001b[0m \u001b[1;33m\u001b[0m\u001b[0m\n\u001b[1;32m--> 676\u001b[1;33m         \u001b[1;32mreturn\u001b[0m \u001b[0m_read\u001b[0m\u001b[1;33m(\u001b[0m\u001b[0mfilepath_or_buffer\u001b[0m\u001b[1;33m,\u001b[0m \u001b[0mkwds\u001b[0m\u001b[1;33m)\u001b[0m\u001b[1;33m\u001b[0m\u001b[1;33m\u001b[0m\u001b[0m\n\u001b[0m\u001b[0;32m    677\u001b[0m \u001b[1;33m\u001b[0m\u001b[0m\n\u001b[0;32m    678\u001b[0m     \u001b[0mparser_f\u001b[0m\u001b[1;33m.\u001b[0m\u001b[0m__name__\u001b[0m \u001b[1;33m=\u001b[0m \u001b[0mname\u001b[0m\u001b[1;33m\u001b[0m\u001b[1;33m\u001b[0m\u001b[0m\n",
      "\u001b[1;32m~\\anaconda3\\lib\\site-packages\\pandas\\io\\parsers.py\u001b[0m in \u001b[0;36m_read\u001b[1;34m(filepath_or_buffer, kwds)\u001b[0m\n\u001b[0;32m    446\u001b[0m \u001b[1;33m\u001b[0m\u001b[0m\n\u001b[0;32m    447\u001b[0m     \u001b[1;31m# Create the parser.\u001b[0m\u001b[1;33m\u001b[0m\u001b[1;33m\u001b[0m\u001b[1;33m\u001b[0m\u001b[0m\n\u001b[1;32m--> 448\u001b[1;33m     \u001b[0mparser\u001b[0m \u001b[1;33m=\u001b[0m \u001b[0mTextFileReader\u001b[0m\u001b[1;33m(\u001b[0m\u001b[0mfp_or_buf\u001b[0m\u001b[1;33m,\u001b[0m \u001b[1;33m**\u001b[0m\u001b[0mkwds\u001b[0m\u001b[1;33m)\u001b[0m\u001b[1;33m\u001b[0m\u001b[1;33m\u001b[0m\u001b[0m\n\u001b[0m\u001b[0;32m    449\u001b[0m \u001b[1;33m\u001b[0m\u001b[0m\n\u001b[0;32m    450\u001b[0m     \u001b[1;32mif\u001b[0m \u001b[0mchunksize\u001b[0m \u001b[1;32mor\u001b[0m \u001b[0miterator\u001b[0m\u001b[1;33m:\u001b[0m\u001b[1;33m\u001b[0m\u001b[1;33m\u001b[0m\u001b[0m\n",
      "\u001b[1;32m~\\anaconda3\\lib\\site-packages\\pandas\\io\\parsers.py\u001b[0m in \u001b[0;36m__init__\u001b[1;34m(self, f, engine, **kwds)\u001b[0m\n\u001b[0;32m    878\u001b[0m             \u001b[0mself\u001b[0m\u001b[1;33m.\u001b[0m\u001b[0moptions\u001b[0m\u001b[1;33m[\u001b[0m\u001b[1;34m\"has_index_names\"\u001b[0m\u001b[1;33m]\u001b[0m \u001b[1;33m=\u001b[0m \u001b[0mkwds\u001b[0m\u001b[1;33m[\u001b[0m\u001b[1;34m\"has_index_names\"\u001b[0m\u001b[1;33m]\u001b[0m\u001b[1;33m\u001b[0m\u001b[1;33m\u001b[0m\u001b[0m\n\u001b[0;32m    879\u001b[0m \u001b[1;33m\u001b[0m\u001b[0m\n\u001b[1;32m--> 880\u001b[1;33m         \u001b[0mself\u001b[0m\u001b[1;33m.\u001b[0m\u001b[0m_make_engine\u001b[0m\u001b[1;33m(\u001b[0m\u001b[0mself\u001b[0m\u001b[1;33m.\u001b[0m\u001b[0mengine\u001b[0m\u001b[1;33m)\u001b[0m\u001b[1;33m\u001b[0m\u001b[1;33m\u001b[0m\u001b[0m\n\u001b[0m\u001b[0;32m    881\u001b[0m \u001b[1;33m\u001b[0m\u001b[0m\n\u001b[0;32m    882\u001b[0m     \u001b[1;32mdef\u001b[0m \u001b[0mclose\u001b[0m\u001b[1;33m(\u001b[0m\u001b[0mself\u001b[0m\u001b[1;33m)\u001b[0m\u001b[1;33m:\u001b[0m\u001b[1;33m\u001b[0m\u001b[1;33m\u001b[0m\u001b[0m\n",
      "\u001b[1;32m~\\anaconda3\\lib\\site-packages\\pandas\\io\\parsers.py\u001b[0m in \u001b[0;36m_make_engine\u001b[1;34m(self, engine)\u001b[0m\n\u001b[0;32m   1112\u001b[0m     \u001b[1;32mdef\u001b[0m \u001b[0m_make_engine\u001b[0m\u001b[1;33m(\u001b[0m\u001b[0mself\u001b[0m\u001b[1;33m,\u001b[0m \u001b[0mengine\u001b[0m\u001b[1;33m=\u001b[0m\u001b[1;34m\"c\"\u001b[0m\u001b[1;33m)\u001b[0m\u001b[1;33m:\u001b[0m\u001b[1;33m\u001b[0m\u001b[1;33m\u001b[0m\u001b[0m\n\u001b[0;32m   1113\u001b[0m         \u001b[1;32mif\u001b[0m \u001b[0mengine\u001b[0m \u001b[1;33m==\u001b[0m \u001b[1;34m\"c\"\u001b[0m\u001b[1;33m:\u001b[0m\u001b[1;33m\u001b[0m\u001b[1;33m\u001b[0m\u001b[0m\n\u001b[1;32m-> 1114\u001b[1;33m             \u001b[0mself\u001b[0m\u001b[1;33m.\u001b[0m\u001b[0m_engine\u001b[0m \u001b[1;33m=\u001b[0m \u001b[0mCParserWrapper\u001b[0m\u001b[1;33m(\u001b[0m\u001b[0mself\u001b[0m\u001b[1;33m.\u001b[0m\u001b[0mf\u001b[0m\u001b[1;33m,\u001b[0m \u001b[1;33m**\u001b[0m\u001b[0mself\u001b[0m\u001b[1;33m.\u001b[0m\u001b[0moptions\u001b[0m\u001b[1;33m)\u001b[0m\u001b[1;33m\u001b[0m\u001b[1;33m\u001b[0m\u001b[0m\n\u001b[0m\u001b[0;32m   1115\u001b[0m         \u001b[1;32melse\u001b[0m\u001b[1;33m:\u001b[0m\u001b[1;33m\u001b[0m\u001b[1;33m\u001b[0m\u001b[0m\n\u001b[0;32m   1116\u001b[0m             \u001b[1;32mif\u001b[0m \u001b[0mengine\u001b[0m \u001b[1;33m==\u001b[0m \u001b[1;34m\"python\"\u001b[0m\u001b[1;33m:\u001b[0m\u001b[1;33m\u001b[0m\u001b[1;33m\u001b[0m\u001b[0m\n",
      "\u001b[1;32m~\\anaconda3\\lib\\site-packages\\pandas\\io\\parsers.py\u001b[0m in \u001b[0;36m__init__\u001b[1;34m(self, src, **kwds)\u001b[0m\n\u001b[0;32m   1889\u001b[0m         \u001b[0mkwds\u001b[0m\u001b[1;33m[\u001b[0m\u001b[1;34m\"usecols\"\u001b[0m\u001b[1;33m]\u001b[0m \u001b[1;33m=\u001b[0m \u001b[0mself\u001b[0m\u001b[1;33m.\u001b[0m\u001b[0musecols\u001b[0m\u001b[1;33m\u001b[0m\u001b[1;33m\u001b[0m\u001b[0m\n\u001b[0;32m   1890\u001b[0m \u001b[1;33m\u001b[0m\u001b[0m\n\u001b[1;32m-> 1891\u001b[1;33m         \u001b[0mself\u001b[0m\u001b[1;33m.\u001b[0m\u001b[0m_reader\u001b[0m \u001b[1;33m=\u001b[0m \u001b[0mparsers\u001b[0m\u001b[1;33m.\u001b[0m\u001b[0mTextReader\u001b[0m\u001b[1;33m(\u001b[0m\u001b[0msrc\u001b[0m\u001b[1;33m,\u001b[0m \u001b[1;33m**\u001b[0m\u001b[0mkwds\u001b[0m\u001b[1;33m)\u001b[0m\u001b[1;33m\u001b[0m\u001b[1;33m\u001b[0m\u001b[0m\n\u001b[0m\u001b[0;32m   1892\u001b[0m         \u001b[0mself\u001b[0m\u001b[1;33m.\u001b[0m\u001b[0munnamed_cols\u001b[0m \u001b[1;33m=\u001b[0m \u001b[0mself\u001b[0m\u001b[1;33m.\u001b[0m\u001b[0m_reader\u001b[0m\u001b[1;33m.\u001b[0m\u001b[0munnamed_cols\u001b[0m\u001b[1;33m\u001b[0m\u001b[1;33m\u001b[0m\u001b[0m\n\u001b[0;32m   1893\u001b[0m \u001b[1;33m\u001b[0m\u001b[0m\n",
      "\u001b[1;32mpandas\\_libs\\parsers.pyx\u001b[0m in \u001b[0;36mpandas._libs.parsers.TextReader.__cinit__\u001b[1;34m()\u001b[0m\n",
      "\u001b[1;32mpandas\\_libs\\parsers.pyx\u001b[0m in \u001b[0;36mpandas._libs.parsers.TextReader._setup_parser_source\u001b[1;34m()\u001b[0m\n",
      "\u001b[1;31mFileNotFoundError\u001b[0m: [Errno 2] File //projects//85c3bd5a-ae03-4202-9f97-5cb013735222//input.csv does not exist: '//projects//85c3bd5a-ae03-4202-9f97-5cb013735222//input.csv'"
     ]
    }
   ],
   "source": [
    "data = pd.read_csv(\"//projects//85c3bd5a-ae03-4202-9f97-5cb013735222//input.csv\")\n",
    "info=data[\"Job-1\"]\n",
    "total=[]\n",
    "chrome_options = Options()\n",
    "chrome_options.add_argument(\"--disable-extensions\")\n",
    "chrome_options.add_argument(\"--disable-gpu\")\n",
    "chrome_options.add_argument(\"--no-sandbox\") # linux only\n",
    "chrome_options.add_argument(\"--headless\")\n",
    "browser = webdriver.Chrome('/usr/lib/chromium-browser/chromedriver',options=chrome_options)\n",
    "for keywords in info:\n",
    "    try:\n",
    "        url='https://www.careerbuilder.com/jobs?utf8=%E2%9C%93&keywords='+keywords+'&location='\n",
    "        response = requests.get(url)\n",
    "        soup = BeautifulSoup(response.text,\"html.parser\")\n",
    "        qwert=soup.prettify()\n",
    "        x=qwert.split('jrp_result_count\": ')[1].split(',')[0]\n",
    "        total.append([\"careerbuilder\",keywords,x])\n",
    "    #    print (careerbuilder)\n",
    "\n",
    "        indeed = ('https://www.indeed.com/jobs?q='+keywords+'&l=')\n",
    "        response = requests.get(indeed)\n",
    "        soup = BeautifulSoup(response.text,\"html.parser\")\n",
    "        qwert=soup.prettify() \n",
    "        count=qwert.split(\"Page 1 of \")[1].split(\" \")[0]\n",
    "        total.append([\"Indeed\",keywords,count])\n",
    "    #    print(\"indeed\")\n",
    "\n",
    "        glassdoor = 'https://www.glassdoor.com/Job/jobs.htm?suggestCount=0&suggestChosen=false&clickSource=searchBtn&typedKeyword=&locT=&locId=0&jobType=&context=Jobs&sc.keyword='+keywords+'&dropdown=0'\n",
    "        browser.get(glassdoor)\n",
    "        view_page = browser.page_source\n",
    "        count=view_page.split(\"totalJobsCount\")[1].split(\"\\\\\")[1].split(\":\")[1].split(\",\")[0]\n",
    "\n",
    "        total.append([\"glassdoor\",keywords,count])\n",
    "    #    print(\"glass\")\n",
    "\n",
    "        dice = ('https://www.dice.com/jobs?q='+keywords+'&countryCode=US&radius=30&radiusUnit=mi&page=1&pageSize=20&language=en')\n",
    "        browser.get(dice) #run this in the loop\n",
    "        view_page = browser.page_source\n",
    "        count = view_page.split(\"search-count-mobile\\\">\")[1].split(\"<\")[0]   \n",
    "        total.append([\"Dice\",keywords,count])\n",
    "    except IndexError:\n",
    "        continue\n",
    "\n",
    "#    print(\"dice\")\n",
    "\n",
    "df=pd.DataFrame(total)\n",
    "df.to_csv(\"//projects//85c3bd5a-ae03-4202-9f97-5cb013735222//output.csv\",header=False,index=False) \n",
    "\n",
    "\n"
   ]
  },
  {
   "cell_type": "code",
   "execution_count": 120,
   "metadata": {},
   "outputs": [],
   "source": [
    "url='https://www.sec.gov/Archives/edgar/data/320193/000119312521001987/d767770ddef14a.htm'\n",
    "response = requests.get(url)\n",
    "soup = BeautifulSoup(response.text,\"html.parser\")\n"
   ]
  },
  {
   "cell_type": "code",
   "execution_count": 123,
   "metadata": {},
   "outputs": [
    {
     "data": {
      "text/plain": [
       "'<!DOCTYPE html PUBLIC \"-//W3C//DTD XHTML 1.0 Transitional//EN\" \"http://www.w3.org/TR/xhtml1/DTD/xhtml1-transitional.dtd\">\\n<html xmlns=\"http://www.w3.org/1999/xhtml\">\\n <head>\\n  <meta content=\"text/html; charset=utf-8\" http-equiv=\"Content-Type\"/>\\n  <title>\\n   SEC.gov | Request Rate Threshold Exceeded\\n  </title>\\n  <style>\\n   html {height: 100%}\\nbody {height: 100%; margin:0; padding:0;}\\n#header {background-color:#003968; color:#fff; padding:15px 20px 10px 20px;font-family:Arial, Helvetica, sans-serif; font-size:20px; border-bottom:solid 5px #000;}\\n#footer {background-color:#003968; color:#fff; padding:15px 20px;font-family:Arial, Helvetica, sans-serif; font-size:20px;}\\n#content {max-width:650px;margin:60px auto; padding:0 20px 100px 20px; background-image:url(seal_bw.png);background-repeat:no-repeat;background-position:50% 100%;}\\nh1 {font-family:Georgia, Times, serif; font-size:20px;}\\nh2 {text-align:center; font-family:Georgia, Times, serif; font-size:20px; width:100%; border-bottom:solid #999 1px;padding-bottom:10px; margin-bottom:20px;}\\nh3 {font-family:Georgia, Times, serif; font-size:16px; margin:25px 0 0 0;}\\np {font-family:Verdana, Geneva, sans-serif;font-size:14px;line-height:1.3;}\\n.grey_box {background-color:#eee; padding:5px 40px 20px 40px;margin-top:75px;}\\n.grey_box p {font-size:12px;line-height:1.5}\\n.note {padding: 0 40px; font-style: italic;}\\n  </style>\\n </head>\\n <body>\\n  <div id=\"header\">\\n   U.S. Securities and Exchange Commission\\n  </div>\\n  <div id=\"content\">\\n   <h1>\\n    Your Request Originates from an Undeclared Automated Tool\\n   </h1>\\n   <p>\\n    To allow for equitable access to all users, SEC reserves the right to limit requests originating from undeclared automated tools. Your request has been identified as part of a network of automated tools outside of the acceptable policy and will be managed until action is taken to declare your traffic.\\n   </p>\\n   <p>\\n    Please declare your traffic by updating your user agent to include company specific information.\\n   </p>\\n   <p>\\n    For best practices on efficiently downloading information from SEC.gov, including the latest EDGAR filings, visit\\n    <a href=\"https://www.sec.gov/developer\" target=\"_blank\">\\n     sec.gov/developer\\n    </a>\\n    . You can also\\n    <a href=\"https://public.govdelivery.com/accounts/USSEC/subscriber/new?topic_id=USSEC_260\" target=\"_blank\">\\n     sign up for email updates\\n    </a>\\n    on the SEC open data program, including best practices that make it more efficient to download data, and SEC.gov enhancements that may impact scripted downloading processes. For more information, contact\\n    <a href=\"mailto:opendata@sec.gov\">\\n     opendata@sec.gov\\n    </a>\\n    .\\n   </p>\\n   <p>\\n    For more information, please see the SECâ\\x80\\x99s\\n    <a href=\"#internet\">\\n     Web Site Privacy and Security Policy\\n    </a>\\n    . Thank you for your interest in the U.S. Securities and Exchange Commission.\\n    <p>\\n     Reference ID: 0.55012417.1625439059.2d0370\\n    </p>\\n    <div class=\"grey_box\">\\n     <h2>\\n      More Information\\n     </h2>\\n     <h3>\\n      <a name=\"internet\">\\n       Internet Security Policy\\n      </a>\\n     </h3>\\n     <p>\\n      By using this site, you are agreeing to security monitoring and auditing. For security purposes, and to ensure that the public service remains available to users, this government computer system employs programs to monitor network traffic to identify unauthorized attempts to upload or change information or to otherwise cause damage, including attempts to deny service to users.\\n     </p>\\n     <p>\\n      Unauthorized attempts to upload information and/or change information on any portion of this site are strictly prohibited and are subject to prosecution under the Computer Fraud and Abuse Act of 1986 and the National Information Infrastructure Protection Act of 1996 (see Title 18 U.S.C. Â§Â§ 1001 and 1030).\\n     </p>\\n     <p>\\n      To ensure our website performs well for all users, the SEC monitors the frequency of requests for SEC.gov content to ensure automated searches do not impact the ability of others to access SEC.gov content. We reserve the right to block IP addresses that submit excessive requests.  Current guidelines limit users to a total of no more than 10 requests per second, regardless of the number of machines used to submit requests.\\n     </p>\\n     <p>\\n      If a user or application submits more than 10 requests per second, further requests from the IP address(es) may be limited for a brief period. Once the rate of requests has dropped below the threshold for 10 minutes, the user may resume accessing content on SEC.gov. This SEC practice is designed to limit excessive automated searches on SEC.gov and is not intended or expected to impact individuals browsing the SEC.gov website.\\n     </p>\\n     <p>\\n      Note that this policy may change as the SEC manages SEC.gov to ensure that the website performs efficiently and remains available to all users.\\n     </p>\\n    </div>\\n    <br/>\\n    <p class=\"note\">\\n     <b>\\n      Note:\\n     </b>\\n     We do not offer technical support for developing or debugging scripted downloading processes.\\n    </p>\\n   </p>\\n  </div>\\n </body>\\n</html>\\n'"
      ]
     },
     "execution_count": 123,
     "metadata": {},
     "output_type": "execute_result"
    }
   ],
   "source": [
    "qwert=soup.prettify() \n",
    "qwert"
   ]
  },
  {
   "cell_type": "code",
   "execution_count": 121,
   "metadata": {},
   "outputs": [],
   "source": [
    "for strong_tag in soup.find_all('font'):\n",
    "    print(strong_tag.text, strong_tag.next_sibling)"
   ]
  },
  {
   "cell_type": "code",
   "execution_count": 61,
   "metadata": {},
   "outputs": [],
   "source": [
    "\n",
    "chrome_options = Options()\n",
    "browser = webdriver.Chrome(executable_path=r'C:\\Users\\solan\\.wdm\\drivers\\chromedriver\\win32\\91.0.4472.101\\chromedriver.exe')\n",
    "dice = ('https://www.sec.gov/Archives/edgar/data/320193/000119312521001987/d767770ddef14a.htm')\n",
    "browser.get(dice) #run this in the loop\n",
    "view_page = browser.page_source"
   ]
  },
  {
   "cell_type": "code",
   "execution_count": 119,
   "metadata": {},
   "outputs": [
    {
     "ename": "NoSuchElementException",
     "evalue": "Message: no such element: Unable to locate element: {\"method\":\"xpath\",\"selector\":\"//font[@class = '#3f3f3f']\"}\n  (Session info: chrome=91.0.4472.114)\n",
     "output_type": "error",
     "traceback": [
      "\u001b[1;31m---------------------------------------------------------------------------\u001b[0m",
      "\u001b[1;31mNoSuchElementException\u001b[0m                    Traceback (most recent call last)",
      "\u001b[1;32m<ipython-input-119-1958d9aa5119>\u001b[0m in \u001b[0;36m<module>\u001b[1;34m\u001b[0m\n\u001b[1;32m----> 1\u001b[1;33m \u001b[0mel\u001b[0m \u001b[1;33m=\u001b[0m \u001b[0mbrowser\u001b[0m\u001b[1;33m.\u001b[0m\u001b[0mfind_element_by_xpath\u001b[0m\u001b[1;33m(\u001b[0m\u001b[1;34m\"//font[@class = '#3f3f3f']\"\u001b[0m\u001b[1;33m)\u001b[0m\u001b[1;33m\u001b[0m\u001b[1;33m\u001b[0m\u001b[0m\n\u001b[0m",
      "\u001b[1;32m~\\anaconda3\\lib\\site-packages\\selenium\\webdriver\\remote\\webdriver.py\u001b[0m in \u001b[0;36mfind_element_by_xpath\u001b[1;34m(self, xpath)\u001b[0m\n\u001b[0;32m    392\u001b[0m             \u001b[0melement\u001b[0m \u001b[1;33m=\u001b[0m \u001b[0mdriver\u001b[0m\u001b[1;33m.\u001b[0m\u001b[0mfind_element_by_xpath\u001b[0m\u001b[1;33m(\u001b[0m\u001b[1;34m'//div/td[1]'\u001b[0m\u001b[1;33m)\u001b[0m\u001b[1;33m\u001b[0m\u001b[1;33m\u001b[0m\u001b[0m\n\u001b[0;32m    393\u001b[0m         \"\"\"\n\u001b[1;32m--> 394\u001b[1;33m         \u001b[1;32mreturn\u001b[0m \u001b[0mself\u001b[0m\u001b[1;33m.\u001b[0m\u001b[0mfind_element\u001b[0m\u001b[1;33m(\u001b[0m\u001b[0mby\u001b[0m\u001b[1;33m=\u001b[0m\u001b[0mBy\u001b[0m\u001b[1;33m.\u001b[0m\u001b[0mXPATH\u001b[0m\u001b[1;33m,\u001b[0m \u001b[0mvalue\u001b[0m\u001b[1;33m=\u001b[0m\u001b[0mxpath\u001b[0m\u001b[1;33m)\u001b[0m\u001b[1;33m\u001b[0m\u001b[1;33m\u001b[0m\u001b[0m\n\u001b[0m\u001b[0;32m    395\u001b[0m \u001b[1;33m\u001b[0m\u001b[0m\n\u001b[0;32m    396\u001b[0m     \u001b[1;32mdef\u001b[0m \u001b[0mfind_elements_by_xpath\u001b[0m\u001b[1;33m(\u001b[0m\u001b[0mself\u001b[0m\u001b[1;33m,\u001b[0m \u001b[0mxpath\u001b[0m\u001b[1;33m)\u001b[0m\u001b[1;33m:\u001b[0m\u001b[1;33m\u001b[0m\u001b[1;33m\u001b[0m\u001b[0m\n",
      "\u001b[1;32m~\\anaconda3\\lib\\site-packages\\selenium\\webdriver\\remote\\webdriver.py\u001b[0m in \u001b[0;36mfind_element\u001b[1;34m(self, by, value)\u001b[0m\n\u001b[0;32m    976\u001b[0m         return self.execute(Command.FIND_ELEMENT, {\n\u001b[0;32m    977\u001b[0m             \u001b[1;34m'using'\u001b[0m\u001b[1;33m:\u001b[0m \u001b[0mby\u001b[0m\u001b[1;33m,\u001b[0m\u001b[1;33m\u001b[0m\u001b[1;33m\u001b[0m\u001b[0m\n\u001b[1;32m--> 978\u001b[1;33m             'value': value})['value']\n\u001b[0m\u001b[0;32m    979\u001b[0m \u001b[1;33m\u001b[0m\u001b[0m\n\u001b[0;32m    980\u001b[0m     \u001b[1;32mdef\u001b[0m \u001b[0mfind_elements\u001b[0m\u001b[1;33m(\u001b[0m\u001b[0mself\u001b[0m\u001b[1;33m,\u001b[0m \u001b[0mby\u001b[0m\u001b[1;33m=\u001b[0m\u001b[0mBy\u001b[0m\u001b[1;33m.\u001b[0m\u001b[0mID\u001b[0m\u001b[1;33m,\u001b[0m \u001b[0mvalue\u001b[0m\u001b[1;33m=\u001b[0m\u001b[1;32mNone\u001b[0m\u001b[1;33m)\u001b[0m\u001b[1;33m:\u001b[0m\u001b[1;33m\u001b[0m\u001b[1;33m\u001b[0m\u001b[0m\n",
      "\u001b[1;32m~\\anaconda3\\lib\\site-packages\\selenium\\webdriver\\remote\\webdriver.py\u001b[0m in \u001b[0;36mexecute\u001b[1;34m(self, driver_command, params)\u001b[0m\n\u001b[0;32m    319\u001b[0m         \u001b[0mresponse\u001b[0m \u001b[1;33m=\u001b[0m \u001b[0mself\u001b[0m\u001b[1;33m.\u001b[0m\u001b[0mcommand_executor\u001b[0m\u001b[1;33m.\u001b[0m\u001b[0mexecute\u001b[0m\u001b[1;33m(\u001b[0m\u001b[0mdriver_command\u001b[0m\u001b[1;33m,\u001b[0m \u001b[0mparams\u001b[0m\u001b[1;33m)\u001b[0m\u001b[1;33m\u001b[0m\u001b[1;33m\u001b[0m\u001b[0m\n\u001b[0;32m    320\u001b[0m         \u001b[1;32mif\u001b[0m \u001b[0mresponse\u001b[0m\u001b[1;33m:\u001b[0m\u001b[1;33m\u001b[0m\u001b[1;33m\u001b[0m\u001b[0m\n\u001b[1;32m--> 321\u001b[1;33m             \u001b[0mself\u001b[0m\u001b[1;33m.\u001b[0m\u001b[0merror_handler\u001b[0m\u001b[1;33m.\u001b[0m\u001b[0mcheck_response\u001b[0m\u001b[1;33m(\u001b[0m\u001b[0mresponse\u001b[0m\u001b[1;33m)\u001b[0m\u001b[1;33m\u001b[0m\u001b[1;33m\u001b[0m\u001b[0m\n\u001b[0m\u001b[0;32m    322\u001b[0m             response['value'] = self._unwrap_value(\n\u001b[0;32m    323\u001b[0m                 response.get('value', None))\n",
      "\u001b[1;32m~\\anaconda3\\lib\\site-packages\\selenium\\webdriver\\remote\\errorhandler.py\u001b[0m in \u001b[0;36mcheck_response\u001b[1;34m(self, response)\u001b[0m\n\u001b[0;32m    240\u001b[0m                 \u001b[0malert_text\u001b[0m \u001b[1;33m=\u001b[0m \u001b[0mvalue\u001b[0m\u001b[1;33m[\u001b[0m\u001b[1;34m'alert'\u001b[0m\u001b[1;33m]\u001b[0m\u001b[1;33m.\u001b[0m\u001b[0mget\u001b[0m\u001b[1;33m(\u001b[0m\u001b[1;34m'text'\u001b[0m\u001b[1;33m)\u001b[0m\u001b[1;33m\u001b[0m\u001b[1;33m\u001b[0m\u001b[0m\n\u001b[0;32m    241\u001b[0m             \u001b[1;32mraise\u001b[0m \u001b[0mexception_class\u001b[0m\u001b[1;33m(\u001b[0m\u001b[0mmessage\u001b[0m\u001b[1;33m,\u001b[0m \u001b[0mscreen\u001b[0m\u001b[1;33m,\u001b[0m \u001b[0mstacktrace\u001b[0m\u001b[1;33m,\u001b[0m \u001b[0malert_text\u001b[0m\u001b[1;33m)\u001b[0m\u001b[1;33m\u001b[0m\u001b[1;33m\u001b[0m\u001b[0m\n\u001b[1;32m--> 242\u001b[1;33m         \u001b[1;32mraise\u001b[0m \u001b[0mexception_class\u001b[0m\u001b[1;33m(\u001b[0m\u001b[0mmessage\u001b[0m\u001b[1;33m,\u001b[0m \u001b[0mscreen\u001b[0m\u001b[1;33m,\u001b[0m \u001b[0mstacktrace\u001b[0m\u001b[1;33m)\u001b[0m\u001b[1;33m\u001b[0m\u001b[1;33m\u001b[0m\u001b[0m\n\u001b[0m\u001b[0;32m    243\u001b[0m \u001b[1;33m\u001b[0m\u001b[0m\n\u001b[0;32m    244\u001b[0m     \u001b[1;32mdef\u001b[0m \u001b[0m_value_or_default\u001b[0m\u001b[1;33m(\u001b[0m\u001b[0mself\u001b[0m\u001b[1;33m,\u001b[0m \u001b[0mobj\u001b[0m\u001b[1;33m,\u001b[0m \u001b[0mkey\u001b[0m\u001b[1;33m,\u001b[0m \u001b[0mdefault\u001b[0m\u001b[1;33m)\u001b[0m\u001b[1;33m:\u001b[0m\u001b[1;33m\u001b[0m\u001b[1;33m\u001b[0m\u001b[0m\n",
      "\u001b[1;31mNoSuchElementException\u001b[0m: Message: no such element: Unable to locate element: {\"method\":\"xpath\",\"selector\":\"//font[@class = '#3f3f3f']\"}\n  (Session info: chrome=91.0.4472.114)\n"
     ]
    }
   ],
   "source": [
    "el = browser.find_element_by_xpath(\"//font[@class = '#3f3f3f']\")"
   ]
  },
  {
   "cell_type": "code",
   "execution_count": 115,
   "metadata": {},
   "outputs": [
    {
     "data": {
      "text/plain": [
       "'  Art Levinson, 70, has served as the Chief Executive Officer of Calico, a company focused on health, aging, and well-being, since September 2013.\\nDr. Levinson previously served as Chief Executive Officer of Genentech, Inc., a medical drug developer, from July 1995 to April 2009, and served as Genentech’s Chairman from September 1999 to September 2014.\\nAmong other qualifications, Dr. Levinson brings to the Board executive leadership experience, including his service as a board chair and chief executive officer of a large international public company, along with extensive financial expertise and brand marketing experience.\\nSelected Directorships and Memberships\\nBoard of Directors, Broad Institute of Harvard and MIT\\nBoard of Scientific Consultants, Memorial Sloan Kettering Cancer Center\\nIndustrial Advisory Board, California Institute for Quantitative Biomedical Research\\nScience Advisory Board, Chan Zuckerberg Initiative\\n  Tim Cook, 60, has been Apple’s Chief Executive Officer since August 2011 and was previously Apple’s Chief Operating Officer since October 2005.\\nMr. Cook joined Apple in March 1998 and served as Executive Vice President, Worldwide Sales and Operations from February 2002 to October 2005. From October 2000 to February 2002, Mr. Cook served as Senior Vice President, Worldwide Operations, Sales, Service and Support. From March 1998 to October 2000, Mr. Cook served as Senior Vice President, Worldwide Operations.\\nAmong other qualifications, Mr. Cook brings to the Board extensive executive leadership experience in the technology industry, including the management of worldwide operations, sales, service, and support.\\nOther Current Public Company Directorships\\nNIKE, Inc.\\nSelected Directorships and Memberships\\nBoard of Directors, The National Football Foundation & College Hall of Fame, Inc.\\nBoard of Trustees, Duke University\\nLeadership Council, Malala Fund\\n    Apple Inc. | 2021 Proxy Statement | 25'"
      ]
     },
     "execution_count": 115,
     "metadata": {},
     "output_type": "execute_result"
    }
   ],
   "source": [
    "el.text"
   ]
  },
  {
   "cell_type": "code",
   "execution_count": 118,
   "metadata": {},
   "outputs": [
    {
     "ename": "AttributeError",
     "evalue": "'WebDriver' object has no attribute 'findElement'",
     "output_type": "error",
     "traceback": [
      "\u001b[1;31m---------------------------------------------------------------------------\u001b[0m",
      "\u001b[1;31mAttributeError\u001b[0m                            Traceback (most recent call last)",
      "\u001b[1;32m<ipython-input-118-212729bb24e7>\u001b[0m in \u001b[0;36m<module>\u001b[1;34m\u001b[0m\n\u001b[1;32m----> 1\u001b[1;33m \u001b[0mbrowser\u001b[0m\u001b[1;33m.\u001b[0m\u001b[0mfindElement\u001b[0m\u001b[1;33m(\u001b[0m\u001b[0mBy\u001b[0m\u001b[1;33m.\u001b[0m\u001b[0mxpath\u001b[0m\u001b[1;33m(\u001b[0m\u001b[1;34m\"//span[@font = '#3f3f3f']\"\u001b[0m\u001b[1;33m)\u001b[0m\u001b[1;33m)\u001b[0m\u001b[1;33m.\u001b[0m\u001b[0mgetText\u001b[0m\u001b[1;33m(\u001b[0m\u001b[1;33m)\u001b[0m\u001b[1;33m;\u001b[0m\u001b[1;33m\u001b[0m\u001b[1;33m\u001b[0m\u001b[0m\n\u001b[0m\u001b[0;32m      2\u001b[0m \u001b[1;33m\u001b[0m\u001b[0m\n\u001b[0;32m      3\u001b[0m \u001b[0mSystem\u001b[0m\u001b[1;33m.\u001b[0m\u001b[0mout\u001b[0m\u001b[1;33m.\u001b[0m\u001b[0mprintln\u001b[0m\u001b[1;33m(\u001b[0m\u001b[0mHeaderTxt\u001b[0m\u001b[1;33m)\u001b[0m\u001b[1;33m;\u001b[0m\u001b[1;33m\u001b[0m\u001b[1;33m\u001b[0m\u001b[0m\n",
      "\u001b[1;31mAttributeError\u001b[0m: 'WebDriver' object has no attribute 'findElement'"
     ]
    }
   ],
   "source": [
    "String HeaderTxt = driver.findElement(By.xpath(\"//span[@class = '#3f3f3f']\")).getText();\n",
    "\n",
    "System.out.println(HeaderTxt);\n"
   ]
  },
  {
   "cell_type": "code",
   "execution_count": 32,
   "metadata": {},
   "outputs": [
    {
     "data": {
      "text/plain": [
       "39278"
      ]
     },
     "execution_count": 32,
     "metadata": {},
     "output_type": "execute_result"
    }
   ],
   "source": [
    "view_page.find(\"Nominees for Election\")"
   ]
  },
  {
   "cell_type": "code",
   "execution_count": 104,
   "metadata": {},
   "outputs": [
    {
     "data": {
      "text/plain": [
       "'Art Levinson, 70, has served as the Chief Executive Officer\\nof Calico, a company focused on health, aging, and well-being, since September 2013. </font></p> <p style=\"margin-top:12pt; margin-bottom:0pt; font-size:10.5pt; font-family:arial\" align=\"justify\"><font color=\"#3f3f3f\">Dr.&nbsp;Levinson previously\\nserved as Chief Executive Officer of Genentech, Inc., a medical drug developer, from July 1995 to April 2009, and served as Genentech’s Chairman from September 1999 to September 2014. </font></p>\\n<p style=\"margin-top:12pt; margin-bottom:0pt; font-size:10.5pt; font-family:arial\" align=\"justify\"><font color=\"#3f3f3f\">Among other qualifications, Dr.&nbsp;Levinson brings to the Board executive leadership experience, including his service as a\\nboard chair and chief executive officer of a large international public company, along with extensive financial expertise and brand marketing experience. </font></p>\\n<p style=\"margin-top:18pt; margin-bottom:0pt; font-size:11.5pt; font-family:arial\">Selected Directorships and Memberships </p>\\n<p style=\"margin-top:4pt; margin-bottom:0pt; font-size:9.5pt; font-family:arial\" align=\"justify\"><font color=\"#3f3f3f\">Board of Directors, Broad Institute of Harvard and MIT </font></p>\\n<p style=\"margin-top:4pt; margin-bottom:0pt; font-size:9.5pt; font-family:arial\" align=\"justify\"><font color=\"#3f3f3f\">Board of Scientific Consultants, Memorial Sloan Kettering Cancer Center </font></p>\\n<p style=\"margin-top:4pt; margin-bottom:0pt; font-size:9.5pt; font-family:arial\" align=\"justify\"><font color=\"#3f3f3f\">Industrial Advisory Board, California Institute for Quantitative Biomedical Research </font></p>\\n<p style=\"margin-top:4pt; margin-bottom:0pt; font-size:9.5pt; font-family:arial\" align=\"justify\"><font color=\"#3f3f3f\">Science Advisory Board, Chan Zuckerberg Initiative\\n</font></p></div><div style=\"position:relative;float:left; margin-left:3%; width:49%;padding-right:0%;padding-bottom:8pt;overflow:hidden;padding-top:3pt\">\\n <div style=\"max-width:100%;margin-left:0%; margin-right:0%;border-radius:12pt; background-color:#eff0f0;;padding-top:2pt;padding-bottom:3pt\">\\n<p style=\"font-size:12pt;margin-top:0pt;margin-bottom:0pt\">&nbsp;</p> <p style=\"margin-top:0pt;margin-bottom:0pt\" align=\"center\">\\n\\n\\n<img src=\"g767770cookvector2.jpg\" alt=\"LOGO\">\\n </p></div> <p style=\"margin-top:12pt; margin-bottom:0pt; font-size:10.5pt; font-family:arial\" align=\"justify\"><font color=\"#3f3f3f\">Tim Cook, 60, has been Apple’s Chief Executive Officer since August 2011 and was\\npreviously Apple’s Chief Operating Officer since October 2005. </font></p> <p style=\"margin-top:12pt; margin-bottom:0pt; font-size:10.5pt; font-family:arial\" align=\"justify\"><font color=\"#3f3f3f\">Mr.&nbsp;Cook joined Apple in March 1998 and\\nserved as Executive Vice President, Worldwide Sales and Operations from February 2002 to October 2005. From October 2000 to February 2002, Mr.&nbsp;Cook served as Senior Vice President, Worldwide Operations, Sales, Service and Support. From March\\n1998 to October 2000, Mr.&nbsp;Cook served as Senior Vice President, Worldwide Operations. </font></p> <p style=\"margin-top:12pt; margin-bottom:0pt; font-size:10.5pt; font-family:arial\" align=\"justify\"><font color=\"#3f3f3f\">Among other\\nqualifications, Mr.&nbsp;Cook brings to the Board extensive executive leadership experience in the technology industry, including the management of worldwide operations, sales, service, and support. </font></p>\\n<p style=\"margin-top:18pt; margin-bottom:0pt; font-size:11.5pt; font-family:arial\">Other Current Public Company Directorships </p>\\n<p style=\"margin-top:4pt; margin-bottom:0pt; font-size:9.5pt; font-family:arial\" align=\"justify\"><font color=\"#3f3f3f\">NIKE, Inc. </font></p> <p style=\"margin-top:18pt; margin-bottom:0pt; font-size:11.5pt; font-family:arial\">Selected Directorships\\nand Memberships </p> <p style=\"margin-top:4pt; margin-bottom:0pt; font-size:9.5pt; font-family:arial\" align=\"justify\"><font color=\"#3f3f3f\">Board of Directors, The National Football Foundation&nbsp;&amp; College Hall of Fame, Inc. </font></p>\\n<p style=\"margin-top:4pt; margin-bottom:0pt; font-size:9.5pt; font-family:arial\" align=\"justify\"><font color=\"#3f3f3f\">Board of Trustees, Duke University </font></p>\\n<p style=\"margin-top:4pt; margin-bottom:0pt; font-size:9.5pt; font-family:arial\" align=\"justify\"><font color=\"#3f3f3f\">Leadership Council, Malala Fund\\n</font></p></div><div style=\"clear:both; height:0pt; font-size:0pt\">&nbsp;</div>\\n\\n <p style=\"margin-top:0pt;margin-bottom:0pt ; font-size:8pt\">&nbsp;</p> <p style=\"margin-top:0pt; margin-bottom:0pt; font-size:9pt; font-family:arial\" align=\"center\"><font color=\"#3f3f3f\">Apple Inc. |\\n2021 Proxy Statement | 25 </font></p>\\n\\n</div></center>\\n\\n\\n<p style=\"margin-top:1em; margin-bottom:0em; page-break-before:always\">\\n</p><hr size=\"3\" style=\"COLOR:#999999\" width=\"100%\" align=\"CENTER\">\\n<h5 align=\"left\"><a href=\"#toc\">Table of Contents</a></h5>\\n\\n\\n<center><div style=\"width:8.5in\" align=\"left\">\\n<div style=\"position:relative;float:left; width:48%;padding-right:0%;padding-bottom:8pt;overflow:hidden;padding-top:3pt\">\\n <div style=\"max-width:100%;margin-left:0%; margin-right:0%;border-radius:12pt; background-color:#eff0f0;;padding-top:2pt;padding-bottom:3pt\">\\n<p style=\"font-size:12pt;margin-top:0pt;margin-bottom:0pt\">&nbsp;</p> <p style=\"margin-top:0pt;margin-bottom:0pt\" align=\"center\">\\n\\n\\n<img src=\"g767770bellvector2.jpg\" alt=\"LOGO\">\\n </p></div> <p style=\"margin-top:12pt; margin-bottom:0pt; font-size:10.5pt; font-family:arial\" align=\"justify\"><font color=\"#3f3f3f\">James Bell, 72, is the retired Executive Vice President, Corporate President and Chief\\nFinancial Officer of The Boeing Company, an aerospace company. Mr.&nbsp;Bell served in this role from June&nbsp;2008 to April&nbsp;2012, having previously served as Executive Vice President, Finance and Chief Financial Officer from November 2003 to\\nJune 2008, and as Senior Vice President of Finance and Corporate Controller from October 2000 to November 2003. From 1992 to 2000, Mr.&nbsp;Bell held a series of positions with increasing responsibility at Boeing. </font></p>\\n<p style=\"margin-top:12pt; margin-bottom:0pt; font-size:10.5pt; font-family:arial\" align=\"justify\"><font color=\"#3f3f3f\">Among other qualifications, Mr.&nbsp;Bell brings to the Board financial and accounting expertise as a former chief financial\\nofficer of a large international public company, experience in strategic planning and leadership of complex organizations, and a global business perspective from his service on other boards. </font></p>\\n<p style=\"margin-top:18pt; margin-bottom:0pt; font-size:11.5pt; font-family:arial\">Other Current Public Company Directorships </p>\\n<p style=\"margin-top:4pt; margin-bottom:0pt; font-size:9.5pt; font-family:arial\" align=\"justify\"><font color=\"#3f3f3f\">CDW Corporation </font></p> <p style=\"margin-top:4pt; margin-bottom:0pt; font-size:9.5pt; font-family:arial\" align=\"justify\"><font color=\"#3f3f3f\">Dow Inc. </font></p> <p style=\"margin-top:18pt; margin-bottom:0pt; font-size:11.5pt; font-family:arial\">Selected Directorships and Memberships </p>\\n<p style=\"margin-top:4pt; margin-bottom:0pt; font-size:9.5pt; font-family:arial\" align=\"justify\"><font color=\"#3f3f3f\">Board of Trustees, Rush University Medical Center </font></p>\\n<p style=\"margin-top:18pt; margin-bottom:0pt; font-size:11.5pt; font-family:arial\">Former Public Company Directorships Within the Last Five Years </p> <p style=\"margin-top:4pt; margin-bottom:0pt; font-size:9.5pt; font-family:arial\" align=\"justify\"><font color=\"#3f3f3f\">DowDupont Inc. </font></p> <p style=\"margin-top:4pt; margin-bottom:0pt; font-size:9.5pt; font-family:arial\" align=\"justify\"><font color=\"#3f3f3f\">JPMorgan Chase&nbsp;&amp; Co.\\n</font></p></div><div style=\"position:relative;float:left; margin-left:3%; width:49%;padding-right:0%;padding-bottom:8pt;overflow:hidden;padding-top:3pt\">\\n <div style=\"max-width:100%;margin-left:0%; margin-right:0%;border-radius:12pt; background-color:#eff0f0;;padding-top:2pt;padding-bottom:3pt\">\\n<p style=\"font-size:12pt;margin-top:0pt;margin-bottom:0pt\">&nbsp;</p> <p style=\"margin-top:0pt;margin-bottom:0pt\" align=\"center\">\\n\\n\\n<img src=\"g767770gorevector2.jpg\" alt=\"LOGO\">\\n </p></div> <p style=\"margin-top:12pt; margin-bottom:0pt; font-size:10.5pt; font-family:arial\" align=\"justify\"><font color=\"#3f3f3f\">Al Gore, 72, has served as Chairman of Generation Investment Management, an investment\\nmanagement firm, since 2004, and as a partner of Kleiner Perkins Caufield&nbsp;&amp; Byers, a venture capital firm, since November 2007. </font></p> <p style=\"margin-top:12pt; margin-bottom:0pt; font-size:10.5pt; font-family:arial\" align=\"justify\"><font color=\"#3f3f3f\">Mr.&nbsp;Gore is also Chairman of The Climate Reality Project. </font></p> <p style=\"margin-top:12pt; margin-bottom:0pt; font-size:10.5pt; font-family:arial\" align=\"justify\"><font color=\"#3f3f3f\">Mr.&nbsp;Gore was elected to the\\nU.S. House of Representatives four times, to the U.S. Senate two times, and served two terms as Vice President of the United States. </font></p> <p style=\"margin-top:12pt; margin-bottom:0pt; font-size:10.5pt; font-family:arial\" align=\"justify\"><font color=\"#3f3f3f\">Among other qualifications, Mr.&nbsp;Gore brings to the Board executive leadership experience, a valuable and different perspective due to his extensive background in digital communication and technology policy, politics, and\\nenvironmental rights, along with experience in asset management and venture capital. </font></p></div><div style=\"clear:both; height:0pt; font-size:0pt\">&nbsp;</div>\\n\\n <p style=\"margin-top:0pt;margin-bottom:0pt ; font-size:8pt\">&nbsp;</p> <p style=\"margin-top:0pt; margin-bottom:0pt; font-size:9pt; font-family:arial\" align=\"center\"><font color=\"#3f3f3f\">Apple Inc. |\\n2021 Proxy Statement | 26 </font></p>\\n\\n</div></center>\\n\\n\\n<p style=\"margin-top:1em; margin-bottom:0em; page-break-before:always\">\\n</p><hr size=\"3\" style=\"COLOR:#999999\" width=\"100%\" align=\"CENTER\">\\n<h5 align=\"left\"><a href=\"#toc\">Table of Contents</a></h5>\\n\\n\\n<center><div style=\"width:8.5in\" align=\"left\">\\n<div style=\"position:relative;float:left; width:48%;padding-right:0%;padding-bottom:8pt;overflow:hidden;padding-top:3pt\">\\n <div style=\"max-width:100%;margin-left:0%; margin-right:0%;border-radius:12pt; background-color:#eff0f0;;padding-top:2pt;padding-bottom:3pt\">\\n<p style=\"font-size:12pt;margin-top:0pt;margin-bottom:0pt\">&nbsp;</p> <p style=\"margin-top:0pt;margin-bottom:0pt\" align=\"center\">\\n\\n\\n<img src=\"g767770jungvector2.jpg\" alt=\"LOGO\">\\n </p></div> <p style=\"margin-top:12pt; margin-bottom:0pt; font-size:10pt; font-family:arial\" align=\"justify\"><font color=\"#3f3f3f\">Andrea Jung, 62, has served as the President and Chief Executive Officer of Grameen\\nAmerica LLC, a nonprofit microfinance organization, since April 2014, where she also serves on the Board of Directors. </font></p>\\n<p style=\"margin-top:6pt; margin-bottom:0pt; font-size:10pt; font-family:arial\" align=\"justify\"><font color=\"#3f3f3f\">Ms.&nbsp;Jung previously served as Executive Chairman of Avon Products, Inc., a personal care products company, from April 2012 to\\nDecember 2012, and as Chairman of the Board of Avon from September 2001 to April 2012. Ms.&nbsp;Jung served as Chief Executive Officer of Avon from November 1999 to April 2012, and served as a member of the Board of Avon from January 1998 to\\nDecember&nbsp;2012. </font></p> <p style=\"margin-top:6pt; margin-bottom:0pt; font-size:10pt; font-family:arial\" align=\"justify\"><font color=\"#3f3f3f\">Among other qualifications, Ms.&nbsp;Jung brings to the Board executive leadership experience,\\nincluding her service as a board chair and chief executive officer of a large international public company, along with extensive brand marketing and consumer products experience, and a global business perspective from her service on other boards.\\n</font></p> <p style=\"margin-top:10pt; margin-bottom:0pt; font-size:11.5pt; font-family:arial\">Other Current Public Company Directorships </p> <p style=\"margin-top:3pt; margin-bottom:0pt; font-size:9.5pt; font-family:arial\" align=\"justify\"><font color=\"#3f3f3f\">Unilever PLC and Unilever N.V. </font></p> <p style=\"margin-top:3pt; margin-bottom:0pt; font-size:9.5pt; font-family:arial\" align=\"justify\"><font color=\"#3f3f3f\">Wayfair Inc. </font></p>\\n<p style=\"margin-top:10pt; margin-bottom:0pt; font-size:11.5pt; font-family:arial\">Selected Directorships and Memberships </p>\\n<p style=\"margin-top:3pt; margin-bottom:0pt; font-size:9.5pt; font-family:arial\" align=\"justify\"><font color=\"#3f3f3f\">Board of Directors, Rockefeller Capital Management </font></p>\\n<p style=\"margin-top:3pt; margin-bottom:0pt; font-size:9.5pt; font-family:arial\" align=\"justify\"><font color=\"#3f3f3f\">Board of Directors, JUST Capital </font></p>\\n<p style=\"margin-top:10pt; margin-bottom:0pt; font-size:11.5pt; font-family:arial\">Former Public Company Directorships Within the Last Five Years </p> <p style=\"margin-top:3pt; margin-bottom:0pt; font-size:9.5pt; font-family:arial\" align=\"justify\"><font color=\"#3f3f3f\">Daimler AG </font></p> <p style=\"margin-top:3pt; margin-bottom:0pt; font-size:9.5pt; font-family:arial\" align=\"justify\"><font color=\"#3f3f3f\">General Electric Company\\n</font></p></div><div style=\"position:relative;float:left; margin-left:3%; width:49%;padding-right:0%;padding-bottom:8pt;overflow:hidden;padding-top:3pt\">\\n <div style=\"max-width:100%;margin-left:0%; margin-right:0%;border-radius:12pt; background-color:#eff0f0;;padding-top:2pt;padding-bottom:3pt\">\\n<p style=\"font-size:12pt;margin-top:0pt;margin-bottom:0pt\">&nbsp;</p> <p style=\"font-size:0pt;margin-top:0pt;margin-bottom:0pt\">&nbsp;</p> <p style=\"margin-top:0pt;margin-bottom:0pt\" align=\"center\">\\n\\n\\n<img src=\"g767770g39a40.jpg\" alt=\"LOGO\">\\n </p></div> <p style=\"margin-top:12pt; margin-bottom:0pt; font-size:10pt; font-family:arial\" align=\"justify\"><font color=\"#3f3f3f\">Monica Lozano, 64, has served as the President and Chief Executive Officer of The College\\nFutures Foundation, a charitable foundation working to increase the rate of college graduation for low-income California students, since December 2017.</font></p>\\n<p style=\"margin-top:6pt; margin-bottom:0pt; font-size:10pt; font-family:arial\" align=\"justify\"><font color=\"#3f3f3f\">Ms. Lozano previously served as Chair of the Board of Directors of U.S. Hispanic Media, Inc., the parent company of ImpreMedia,\\nLLC, a Hispanic news and information company, from June 2014 to January 2016.&nbsp;Ms. Lozano previously served as Chair of ImpreMedia, LLC, from July 2012 to January 2016, and Chief Executive Officer of ImpreMedia, LLC, from May 2010 to May 2014.\\n</font></p> <p style=\"margin-top:6pt; margin-bottom:0pt; font-size:10pt; font-family:arial\" align=\"justify\"><font color=\"#3f3f3f\">Among other qualifications, Ms. Lozano brings to the Board executive leadership experience, including her service as a\\nboard chair and chief executive officer, experience in operations, strategic planning and marketing, and a global business perspective from her service on other boards. </font></p>\\n<p style=\"margin-top:10pt; margin-bottom:0pt; font-size:11.5pt; font-family:arial\"><b>Other Current Public Company Directorships</b> </p> <p style=\"margin-top:4pt; margin-bottom:0pt; font-size:9.5pt; font-family:arial\" align=\"justify\"><font color=\"#3f3f3f\">Bank of America Corporation </font></p> <p style=\"margin-top:4pt; margin-bottom:0pt; font-size:9.5pt; font-family:arial\" align=\"justify\"><font color=\"#3f3f3f\">Target Corporation </font></p>\\n<p style=\"margin-top:10pt; margin-bottom:0pt; font-size:11.5pt; font-family:arial\"><b>Selected Directorships and Memberships</b> </p> <p style=\"margin-top:4pt; margin-bottom:0pt; font-size:9.5pt; font-family:arial\" align=\"justify\"><font color=\"#3f3f3f\">Board of Directors, Weingart Foundation </font></p> <p style=\"margin-top:4pt; margin-bottom:0pt; font-size:9.5pt; font-family:arial\" align=\"justify\"><font color=\"#3f3f3f\">Member, American Academy of Arts and Sciences </font></p>\\n<p style=\"margin-top:10pt; margin-bottom:0pt; font-size:11.5pt; font-family:arial\"><b>Former Public Company Directorships Within the Last Five Years</b> </p>\\n<p style=\"margin-top:4pt; margin-bottom:0pt; font-size:9.5pt; font-family:arial\" align=\"justify\"><font color=\"#3f3f3f\">The Walt Disney Company\\n</font></p></div><div style=\"clear:both; height:0pt; font-size:0pt\">&nbsp;</div>\\n\\n <p style=\"margin-top:0pt;margin-bottom:0pt ; font-size:8pt\">&nbsp;</p> <p style=\"margin-top:0pt; margin-bottom:0pt; font-size:9pt; font-family:arial\" align=\"center\"><font color=\"#3f3f3f\">Apple Inc. |\\n2021 Proxy Statement | 27 </font></p>\\n\\n</div></center>\\n\\n\\n<p style=\"margin-top:1em; margin-bottom:0em; page-break-before:always\">\\n</p><hr size=\"3\" style=\"COLOR:#999999\" width=\"100%\" align=\"CENTER\">\\n<h5 align=\"left\"><a href=\"#toc\">Table of Contents</a></h5>\\n\\n\\n<center><div style=\"width:8.5in\" align=\"left\">\\n<div style=\"position:relative;float:left; width:48%;padding-right:0%;padding-bottom:8pt;overflow:hidden;padding-top:3pt\">\\n <div style=\"max-width:100%;margin-left:0%; margin-right:0%;border-radius:12pt; background-color:#eff0f0;;padding-top:2pt;padding-bottom:3pt\">\\n<p style=\"font-size:12pt;margin-top:0pt;margin-bottom:0pt\">&nbsp;</p> <p style=\"margin-top:0pt;margin-bottom:0pt\" align=\"center\">\\n\\n\\n<img src=\"g767770sugarvector2.jpg\" alt=\"LOGO\">\\n </p></div> <p style=\"margin-top:12pt; margin-bottom:0pt; font-size:10pt; font-family:arial\" align=\"justify\"><font color=\"#3f3f3f\">Ron Sugar, 72, is the retired Chairman of the Board and Chief Executive Officer of\\nNorthrop Grumman Corporation, a global security company. Dr.&nbsp;Sugar served in this role from April 2003 to June 2010 and served as President and Chief Operating Officer from 2001 to 2003. Previous to Northrop Grumman, he held executive positions\\nat Litton Industries and TRW Inc., where he served as Chief Financial Officer. </font></p> <p style=\"margin-top:6pt; margin-bottom:0pt; font-size:10pt; font-family:arial\" align=\"justify\"><font color=\"#3f3f3f\">Among other qualifications,\\nDr.&nbsp;Sugar brings to the Board executive leadership experience as a board chair and chief executive officer of a large international public company, financial expertise as a former chief financial officer, understanding of advanced technology,\\nexperience with government relations and public policy, and a global business perspective from his service on other boards. </font></p> <p style=\"margin-top:10pt; margin-bottom:0pt; font-size:11.5pt; font-family:arial\">Other Current Public Company\\nDirectorships </p> <p style=\"margin-top:3pt; margin-bottom:0pt; font-size:9.5pt; font-family:arial\" align=\"justify\"><font color=\"#3f3f3f\">Amgen Inc. </font></p>\\n<p style=\"margin-top:3pt; margin-bottom:0pt; font-size:9.5pt; font-family:arial\" align=\"justify\"><font color=\"#3f3f3f\">Chevron Corporation </font></p> <p style=\"margin-top:3pt; margin-bottom:0pt; font-size:9.5pt; font-family:arial\" align=\"justify\"><font color=\"#3f3f3f\">Uber Technologies, Inc. </font></p> <p style=\"margin-top:10pt; margin-bottom:0pt; font-size:11.5pt; font-family:arial\">Selected Directorships and Memberships </p>\\n<p style=\"margin-top:3pt; margin-bottom:0pt; font-size:9.5pt; font-family:arial\" align=\"justify\"><font color=\"#3f3f3f\">Member, National Academy of Engineering </font></p>\\n<p style=\"margin-top:3pt; margin-bottom:0pt; font-size:9.5pt; font-family:arial\" align=\"justify\"><font color=\"#3f3f3f\">Board of Trustees, University of Southern California </font></p>\\n<p style=\"margin-top:3pt; margin-bottom:0pt; font-size:9.5pt; font-family:arial\" align=\"justify\"><font color=\"#3f3f3f\">Board of Directors, Los Angeles Philharmonic Association </font></p>\\n<p style=\"margin-top:3pt; margin-bottom:0pt; font-size:9.5pt; font-family:arial\" align=\"justify\"><font color=\"#3f3f3f\">Operating Advisor, Ares Management Corporation </font></p>\\n<p style=\"margin-top:3pt; margin-bottom:0pt; font-size:9.5pt; font-family:arial\" align=\"justify\"><font color=\"#3f3f3f\">Member, Temasek Americas Advisory Panel </font></p>\\n<p style=\"margin-top:10pt; margin-bottom:0pt; font-size:11.5pt; font-family:arial\">Former Public Company Directorships Within the Last Five Years </p> <p style=\"margin-top:3pt; margin-bottom:0pt; font-size:9.5pt; font-family:arial\" align=\"justify\"><font color=\"#3f3f3f\">Air Lease Corporation </font></p></div><div style=\"position:relative;float:left; margin-left:3%; width:49%;padding-right:0%;padding-bottom:8pt;overflow:hidden;padding-top:3pt\">\\n <div style=\"max-width:100%;margin-left:0%; margin-right:0%;border-radius:12pt; background-color:#eff0f0;;padding-top:2pt;padding-bottom:3pt\">\\n<p style=\"font-size:12pt;margin-top:0pt;margin-bottom:0pt\">&nbsp;</p> <p style=\"margin-top:0pt;margin-bottom:0pt\" align=\"center\">\\n\\n\\n<img src=\"g767770wagnervector2.jpg\" alt=\"LOGO\">\\n </p></div> <p style=\"margin-top:12pt; margin-bottom:0pt; font-size:10.5pt; font-family:arial\" align=\"justify\"><font color=\"#3f3f3f\">Sue Wagner, 59, is a <font style=\"white-space:nowrap\">co-founder</font> of BlackRock,\\nInc., an asset management company. Ms.&nbsp;Wagner served as BlackRock’s Vice Chairman from January&nbsp;2006 until her retirement in July 2012, and also served as a member of BlackRock’s Global Executive Committee and Global Operating\\nCommittee. During her tenure at BlackRock, Ms.&nbsp;Wagner served as BlackRock’s Chief Operating Officer and Head of Corporate Strategy, and led the alternative investments and international client businesses. </font></p>\\n<p style=\"margin-top:12pt; margin-bottom:0pt; font-size:10.5pt; font-family:arial\" align=\"justify\"><font color=\"#3f3f3f\">Among other qualifications, Ms.&nbsp;Wagner brings to the Board operational experience, including her service as chief operating\\nofficer of a large multinational public company, along with extensive financial expertise and experience in the financial services industry, and a global business perspective from her service on other boards. </font></p>\\n<p style=\"margin-top:18pt; margin-bottom:0pt; font-size:11.5pt; font-family:arial\">Other Current Public Company Directorships </p>\\n<p style=\"margin-top:4pt; margin-bottom:0pt; font-size:9.5pt; font-family:arial\" align=\"justify\"><font color=\"#3f3f3f\">BlackRock, Inc. </font></p> <p style=\"margin-top:4pt; margin-bottom:0pt; font-size:9.5pt; font-family:arial\" align=\"justify\"><font color=\"#3f3f3f\">Swiss Re </font></p> <p style=\"margin-top:18pt; margin-bottom:0pt; font-size:11.5pt; font-family:arial\">Selected Directorships and Memberships </p>\\n<p style=\"margin-top:4pt; margin-bottom:0pt; font-size:9.5pt; font-family:arial\" align=\"justify\"><font color=\"#3f3f3f\">Board of Directors, Color Genomics, Inc. </font></p>\\n<p style=\"margin-top:4pt; margin-bottom:0pt; font-size:9.5pt; font-family:arial\" align=\"justify\"><font color=\"#3f3f3f\">Board of Trustees, Wellesley College </font></p>\\n<p style=\"margin-top:4pt; margin-bottom:0pt; font-size:9.5pt; font-family:arial\" align=\"justify\"><font color=\"#3f3f3f\">Board of Directors, Samsara Networks Inc.\\n</font></p></div><div style=\"clear:both; height:0pt; font-size:0pt\">&nbsp;</div>\\n\\n <p style=\"margin-top:0pt;margin-bottom:0pt ; font-size:8pt\">&nbsp;</p> <p style=\"margin-top:0pt; margin-bottom:0pt; font-size:9pt; font-family:arial\" align=\"center\"><font color=\"#3f3f3f\">Apple Inc. |\\n2021 Proxy Statement | 28 </font></p>\\n\\n</div></center>\\n\\n\\n<p style=\"margin-top:1em; margin-bottom:0em; page-break-before:always\">\\n</p><hr size=\"3\" style=\"COLOR:#999999\" width=\"100%\" align=\"CENTER\">\\n<h5 align=\"left\"><a href=\"#toc\">Table of Contents</a></h5>\\n\\n\\n<center><div style=\"width:8.5in\" align=\"left\">\\n <p style=\"margin-top:0pt; margin-bottom:0pt; font-size:16pt; font-family:arial\"><b><a name=\"toc767770_19\"'"
      ]
     },
     "execution_count": 104,
     "metadata": {},
     "output_type": "execute_result"
    }
   ],
   "source": [
    "view_page.split(\"Nominees for Election\")[2].split(\"></a>\")[1]"
   ]
  },
  {
   "cell_type": "code",
   "execution_count": 38,
   "metadata": {},
   "outputs": [],
   "source": [
    "def get_text_excluding_children(driver, element):\n",
    "    return driver.execute_script(\"\"\"\n",
    "    return jQuery(arguments[0]).contents().filter(function() {\n",
    "        return this.nodeType == Node.TEXT_NODE;\n",
    "    }).text();\n",
    "    \"\"\", element)"
   ]
  },
  {
   "cell_type": "code",
   "execution_count": 60,
   "metadata": {},
   "outputs": [
    {
     "ename": "NameError",
     "evalue": "name 'driver' is not defined",
     "output_type": "error",
     "traceback": [
      "\u001b[1;31m---------------------------------------------------------------------------\u001b[0m",
      "\u001b[1;31mNameError\u001b[0m                                 Traceback (most recent call last)",
      "\u001b[1;32m<ipython-input-60-9207df7735d5>\u001b[0m in \u001b[0;36m<module>\u001b[1;34m\u001b[0m\n\u001b[1;32m----> 1\u001b[1;33m \u001b[0mel\u001b[0m \u001b[1;33m=\u001b[0m \u001b[0mdriver\u001b[0m\u001b[1;33m.\u001b[0m\u001b[0mfind_element_by_tag_name\u001b[0m\u001b[1;33m(\u001b[0m\u001b[1;34m'font'\u001b[0m\u001b[1;33m)\u001b[0m\u001b[1;33m\u001b[0m\u001b[1;33m\u001b[0m\u001b[0m\n\u001b[0m",
      "\u001b[1;31mNameError\u001b[0m: name 'driver' is not defined"
     ]
    }
   ],
   "source": [
    "el = driver.find_element_by_tag_name('font')"
   ]
  },
  {
   "cell_type": "code",
   "execution_count": null,
   "metadata": {},
   "outputs": [],
   "source": []
  }
 ],
 "metadata": {
  "kernelspec": {
   "display_name": "Python 3",
   "language": "python",
   "name": "python3"
  },
  "language_info": {
   "codemirror_mode": {
    "name": "ipython",
    "version": 3
   },
   "file_extension": ".py",
   "mimetype": "text/x-python",
   "name": "python",
   "nbconvert_exporter": "python",
   "pygments_lexer": "ipython3",
   "version": "3.7.6"
  }
 },
 "nbformat": 4,
 "nbformat_minor": 4
}
