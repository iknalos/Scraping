{
 "cells": [
  {
   "cell_type": "code",
   "execution_count": 0,
   "metadata": {
    "collapsed": false
   },
   "outputs": [
   ],
   "source": [
    "import time\n",
    "import requests\n",
    "import urllib.request\n",
    "from bs4 import BeautifulSoup\n",
    "from csv import DictReader\n",
    "import csv\n",
    "from selenium import webdriver\n",
    "from selenium.webdriver.firefox.options import Options\n",
    "import pandas as pd\n",
    "from datetime import datetime\n",
    "keywords=\"SQL Developer\"\n",
    "from rake_nltk import rake,Metric\n",
    "import operator\n",
    "#from nltk.corpus import stopwords\n",
    "import nltk\n",
    "#nltk.download('averaged_perceptron_tagger')\n",
    "from nltk.tokenize import word_tokenize\n",
    "from nltk.corpus import stopwords"
   ]
  },
  {
   "cell_type": "code",
   "execution_count": 0,
   "metadata": {
    "collapsed": false
   },
   "outputs": [
   ],
   "source": [
    "stop_words=set(stopwords.words(\"english\"))\n",
    "total=[]\n",
    "filtered_set=[]\n",
    "i = 0\n",
    "lists=[]\n",
    "#print(\"starting round\n",
    "#find job listing elements on web page\n",
    "\n",
    "#all_jobs = browser.find_elements_by_class_name('row')\n",
    "\n",
    "for i in range(1,3,1):\n",
    "\n",
    "    glassdoor = 'https://www.glassdoor.com/Job/'+keywords+'-jobs-SRCH_KO0,13.htm?p='+str(i)+''\n",
    "    options = Options()# creating an options so that the page load in background.\n",
    "    options.headless = True\n",
    "    browser = webdriver.Firefox(options=options)#using firefox web drivers from selenium which we imported.\n",
    "    browser.get(glassdoor)\n",
    "    \n",
    "    all_jobs = browser.find_elements_by_class_name(\"jl\")\n",
    "    for job in all_jobs:\n",
    "        job.click()\n",
    "        view_page = browser.page_source\n",
    "        job=browser.find_element_by_class_name('title').text\n",
    "        \n",
    "        desc_list = browser.find_element_by_xpath('//*[@id=\"JobDescriptionContainer\"]/div[1]').text#USing xpath as before to get the job JobDescription\n",
    "    #    lists.append(desc_list)\n",
    "\n",
    "        tokenized_word=word_tokenize(desc_list)# breaking sentence into words by tokenize. This is imported from nltk\n",
    "        for w in tokenized_word:\n",
    "            if w not in stop_words:# Comparing words with stopwords and removing which match.\n",
    "                filtered_set.append(w)\n",
    "        fit_words= [word for word in filtered_set if word. isalnum()]\n",
    "\n",
    "        x=nltk.pos_tag(fit_words)\n",
    "        for wordz in x:\n",
    "            if 'NNP' in wordz:\n",
    "    #            del wordz[1]\n",
    "                print (wordz[1])\n",
    "                total.append([wordz[0],job])\n",
    "df=pd.DataFrame(total) # Inserting our final filtered_sent into panda dataframe.\n",
    "#df.to_csv(\"indeed_Whole.csv\",header=False,index=False)  # Adding the above dataframe into nlp.csv.\n",
    "df.to_csv(\"glassdoor_Noun_150.csv\",header=False,index=False)\n",
    "        #read through job listings and store index and results\n"
   ]
  }
 ],
 "metadata": {
  "kernelspec": {
   "display_name": "Python 3",
   "language": "python",
   "name": "python3"
  },
  "language_info": {
   "codemirror_mode": {
    "name": "ipython",
    "version": 3
   },
   "file_extension": ".py",
   "mimetype": "text/x-python",
   "name": "python",
   "nbconvert_exporter": "python",
   "pygments_lexer": "ipython3",
   "version": "3.6.9"
  }
 },
 "nbformat": 4,
 "nbformat_minor": 4
}