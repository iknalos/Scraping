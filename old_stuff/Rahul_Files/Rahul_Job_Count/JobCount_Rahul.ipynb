{
 "cells": [
  {
   "cell_type": "code",
   "execution_count": 0,
   "metadata": {
    "collapsed": false
   },
   "outputs": [
   ],
   "source": [
    "import time\n",
    "import requests\n",
    "import urllib.request\n",
    "from bs4 import BeautifulSoup\n",
    "from csv import DictReader\n",
    "import csv\n",
    "from selenium import webdriver\n",
    "from selenium.webdriver.chrome.options import Options\n",
    "import pandas as pd\n",
    "from datetime import datetime\n"
   ]
  },
  {
   "cell_type": "code",
   "execution_count": 0,
   "metadata": {
    "collapsed": false,
    "scrolled": true
   },
   "outputs": [
   ],
   "source": [
    "data = pd.read_csv(\"//projects//85c3bd5a-ae03-4202-9f97-5cb013735222//input.csv\")\n",
    "info=data[\"Job-1\"]\n",
    "total=[]\n",
    "chrome_options = Options()\n",
    "chrome_options.add_argument(\"--disable-extensions\")\n",
    "chrome_options.add_argument(\"--disable-gpu\")\n",
    "chrome_options.add_argument(\"--no-sandbox\") # linux only\n",
    "chrome_options.add_argument(\"--headless\")\n",
    "browser = webdriver.Chrome('/usr/lib/chromium-browser/chromedriver',options=chrome_options)\n",
    "for keywords in info:\n",
    "    try:\n",
    "        url='https://www.careerbuilder.com/jobs?utf8=%E2%9C%93&keywords='+keywords+'&location='\n",
    "        response = requests.get(url)\n",
    "        soup = BeautifulSoup(response.text,\"html.parser\")\n",
    "        qwert=soup.prettify()\n",
    "        x=qwert.split('jrp_result_count\": ')[1].split(',')[0]\n",
    "        total.append([\"careerbuilder\",keywords,x])\n",
    "    #    print (careerbuilder)\n",
    "\n",
    "        indeed = ('https://www.indeed.com/jobs?q='+keywords+'&l=')\n",
    "        response = requests.get(indeed)\n",
    "        soup = BeautifulSoup(response.text,\"html.parser\")\n",
    "        qwert=soup.prettify() \n",
    "        count=qwert.split(\"Page 1 of \")[1].split(\" \")[0]\n",
    "        total.append([\"Indeed\",keywords,count])\n",
    "    #    print(\"indeed\")\n",
    "\n",
    "        glassdoor = 'https://www.glassdoor.com/Job/jobs.htm?suggestCount=0&suggestChosen=false&clickSource=searchBtn&typedKeyword=&locT=&locId=0&jobType=&context=Jobs&sc.keyword='+keywords+'&dropdown=0'\n",
    "        browser.get(glassdoor)\n",
    "        view_page = browser.page_source\n",
    "        count=view_page.split(\"totalJobsCount\")[1].split(\"\\\\\")[1].split(\":\")[1].split(\",\")[0]\n",
    "\n",
    "        total.append([\"glassdoor\",keywords,count])\n",
    "    #    print(\"glass\")\n",
    "\n",
    "        dice = ('https://www.dice.com/jobs?q='+keywords+'&countryCode=US&radius=30&radiusUnit=mi&page=1&pageSize=20&language=en')\n",
    "        browser.get(dice) #run this in the loop\n",
    "        view_page = browser.page_source\n",
    "        count = view_page.split(\"search-count-mobile\\\">\")[1].split(\"<\")[0]   \n",
    "        total.append([\"Dice\",keywords,count])\n",
    "    except IndexError:\n",
    "        continue\n",
    "\n",
    "#    print(\"dice\")\n",
    "\n",
    "df=pd.DataFrame(total)\n",
    "df.to_csv(\"//projects//85c3bd5a-ae03-4202-9f97-5cb013735222//output.csv\",header=False,index=False) \n",
    "\n",
    "\n"
   ]
  },
  {
   "cell_type": "code",
   "execution_count": 0,
   "metadata": {
    "collapsed": false
   },
   "outputs": [
   ],
   "source": [
   ]
  }
 ],
 "metadata": {
  "kernelspec": {
   "display_name": "Python 3",
   "language": "python",
   "name": "python3"
  },
  "language_info": {
   "codemirror_mode": {
    "name": "ipython",
    "version": 3
   },
   "file_extension": ".py",
   "mimetype": "text/x-python",
   "name": "python",
   "nbconvert_exporter": "python",
   "pygments_lexer": "ipython3",
   "version": "3.6.9"
  }
 },
 "nbformat": 4,
 "nbformat_minor": 4
}